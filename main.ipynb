{
 "cells": [
  {
   "cell_type": "markdown",
   "metadata": {},
   "source": [
    "#### Langkah 1: Hitung Probabilitas bahwa Pelanggan yang Menerima Tawaran Khusus akan Berbelanja Lagi\n",
    "\n",
    "Dalam langkah ini, kita akan menghitung probabilitas bahwa pelanggan yang menerima tawaran khusus dalam email akan berbelanja lagi.\n",
    "\n",
    "Import library yang dibutuhkan, dalam kasus ini kita akan menggunakan NumPy."
   ]
  },
  {
   "cell_type": "code",
   "execution_count": null,
   "metadata": {},
   "outputs": [],
   "source": [
    "import numpy as np"
   ]
  },
  {
   "cell_type": "markdown",
   "metadata": {},
   "source": [
    "Deklarasi variabel:\n",
    "\n",
    "-  `P(berbelanja lagi|menerima tawaran khusus) = 0.80`  (dari informasi yang diberikan)\n",
    "-  `P(menerima tawaran khusus) = ?`  (perlu dihitung)\n",
    "-  `P(berbelanja lagi) = ?`  (perlu dihitung)"
   ]
  },
  {
   "cell_type": "code",
   "execution_count": 6,
   "metadata": {},
   "outputs": [
    {
     "name": "stdout",
     "output_type": "stream",
     "text": [
      "Probabilitas pelanggan menerima tawaran khusus:  0.7\n",
      "Probabilitas pelanggan berbelanja lagi secara keseluruhan:  0.6499999999999999\n"
     ]
    }
   ],
   "source": [
    "# Deklarasi variabel\n",
    "P_berbelanja_tawaran = 0.80       # Probabilitas pelanggan berbelanja lagi jika menerima tawaran khusus\n",
    "P_berbelanja_tidak_tawaran = 0.30 # Probabilitas pelanggan berbelanja lagi jika tidak menerima tawaran khusus\n",
    "\n",
    "# Hitung probabilitas pelanggan menerima tawaran khusus\n",
    "P_menerima_tawaran = 1 - P_berbelanja_tidak_tawaran\n",
    "print(\"Probabilitas pelanggan menerima tawaran khusus: \", P_menerima_tawaran)\n",
    "\n",
    "# Hitung probabilitas pelanggan berbelanja lagi secara keseluruhan\n",
    "P_berbelanja = P_berbelanja_tawaran * P_menerima_tawaran + P_berbelanja_tidak_tawaran * (1 - P_menerima_tawaran)\n",
    "print(\"Probabilitas pelanggan berbelanja lagi secara keseluruhan: \", P_berbelanja)"
   ]
  },
  {
   "cell_type": "markdown",
   "metadata": {},
   "source": [
    "#### Langkah 2: Evaluasi Efektivitas Tawaran Khusus dalam Email\n",
    "\n",
    "Setelah menghitung probabilitas, kita akan mengevaluasi apakah tawaran khusus dalam email efektif.\n",
    "\n",
    "Bandingkan  `P(berbelanja lagi|menerima tawaran khusus)` dengan `P(berbelanja lagi|tidak menerima tawaran khusus)`."
   ]
  },
  {
   "cell_type": "code",
   "execution_count": 11,
   "metadata": {},
   "outputs": [
    {
     "name": "stdout",
     "output_type": "stream",
     "text": [
      "Hasil evaluasi efektivitas tawaran khusus:  Tawaran khusus dalam email efektif.\n"
     ]
    }
   ],
   "source": [
    "# Bandingkan probabilitas pelanggan berbelanja lagi jika menerima tawaran khusus dengan probabilitas jika tidak menerima tawaran\n",
    "if P_berbelanja_tawaran > P_berbelanja_tidak_tawaran:\n",
    "    efektivitas = \"Tawaran khusus dalam email efektif.\"\n",
    "else:\n",
    "    efektivitas = \"Tawaran khusus dalam email tidak efektif.\"\n",
    "print(\"Hasil evaluasi efektivitas tawaran khusus: \", efektivitas)"
   ]
  },
  {
   "cell_type": "markdown",
   "metadata": {},
   "source": [
    "#### Langkah 3: Saran untuk Meningkatkan Efektivitas Kampanye Pemasaran\n",
    "\n",
    "Terakhir, kita akan memberikan saran untuk meningkatkan efektivitas kampanye pemasaran berdasarkan hasil analisis.\n",
    "\n",
    "1. Analisis hasil Teorema Bayes untuk mendapatkan wawasan tentang perilaku pelanggan.\n",
    "2. Sesuaikan strategi pemasaran berdasarkan temuan, seperti menyesuaikan tawaran khusus atau meningkatkan segmentasi pelanggan.\n",
    "3. Uji dan evaluasi kembali kampanye pemasaran untuk melihat apakah ada peningkatan dalam efektivitas."
   ]
  },
  {
   "cell_type": "code",
   "execution_count": 17,
   "metadata": {},
   "outputs": [
    {
     "name": "stdout",
     "output_type": "stream",
     "text": [
      "Analisis hasil Teorema Bayes:\n",
      "- Probabilitas bahwa pelanggan yang menerima tawaran khusus akan berbelanja lagi: 0.8\n",
      "- Probabilitas pelanggan menerima tawaran khusus: 0.7\n",
      "- Probabilitas pelanggan berbelanja lagi secara keseluruhan: 0.6499999999999999\n",
      "\n"
     ]
    }
   ],
   "source": [
    "# Menyajikan analisis hasil Teorema Bayes dan memberikan saran untuk meningkatkan efektivitas kampanye pemasaran\n",
    "summary = \"Analisis hasil Teorema Bayes:\\n\" + \\\n",
    "        \"- Probabilitas bahwa pelanggan yang menerima tawaran khusus akan berbelanja lagi: {}\\n\".format(P_berbelanja_tawaran) + \\\n",
    "        \"- Probabilitas pelanggan menerima tawaran khusus: {}\\n\".format(P_menerima_tawaran) + \\\n",
    "        \"- Probabilitas pelanggan berbelanja lagi secara keseluruhan: {}\\n\".format(P_berbelanja)\n",
    "print(summary)\n"
   ]
  },
  {
   "cell_type": "markdown",
   "metadata": {},
   "source": [
    "**Kesimpulan:**\n",
    "\n",
    "Dengan menerapkan Teorema Bayes, kami berhasil melakukan analisis mendalam terhadap efektivitas kampanye pemasaran perusahaan e-commerce. Berikut adalah ringkasan dari hasil analisis kami:\n",
    "\n",
    "1. **Probabilitas Pelanggan Berbelanja Lagi:**\n",
    "   Berdasarkan perhitungan Teorema Bayes, kami menemukan bahwa probabilitas seorang pelanggan untuk berbelanja lagi adalah sekitar 0.80 jika mereka menerima tawaran khusus dalam email. Hal ini menunjukkan bahwa tawaran khusus memiliki dampak positif terhadap tingkat retensi pelanggan.\n",
    "\n",
    "2. **Evaluasi Efektivitas Tawaran Khusus:**\n",
    "   Kami membandingkan probabilitas pelanggan berbelanja lagi jika mereka menerima tawaran khusus dengan probabilitas jika mereka tidak menerima tawaran khusus. Berdasarkan perbandingan tersebut, kami menyimpulkan bahwa tawaran khusus dalam email efektif dalam meningkatkan peluang pelanggan untuk berbelanja kembali.\n",
    "\n",
    "3. **Saran untuk Meningkatkan Efektivitas Kampanye Pemasaran:**\n",
    "   Hasil analisis kami memberikan wawasan yang berharga bagi perusahaan dalam merancang strategi pemasaran yang lebih efektif. Kami merekomendasikan untuk terus memperbaiki dan menyesuaikan tawaran khusus sesuai dengan preferensi dan perilaku pelanggan. Selain itu, kami menyarankan untuk melakukan segmentasi pelanggan yang lebih tepat dan memperkuat strategi komunikasi pemasaran."
   ]
  }
 ],
 "metadata": {
  "kernelspec": {
   "display_name": "bol_datascience_course",
   "language": "python",
   "name": "python3"
  },
  "language_info": {
   "codemirror_mode": {
    "name": "ipython",
    "version": 3
   },
   "file_extension": ".py",
   "mimetype": "text/x-python",
   "name": "python",
   "nbconvert_exporter": "python",
   "pygments_lexer": "ipython3",
   "version": "3.8.18"
  }
 },
 "nbformat": 4,
 "nbformat_minor": 2
}
